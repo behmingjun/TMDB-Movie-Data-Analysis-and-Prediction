{
 "cells": [
  {
   "cell_type": "markdown",
   "metadata": {},
   "source": [
    "# Conclusion"
   ]
  },
  {
   "cell_type": "markdown",
   "metadata": {},
   "source": [
    "### Outcome"
   ]
  },
  {
   "cell_type": "markdown",
   "metadata": {},
   "source": [
    "For the classification problem, simply using random forest classifier was not enough due to the imbalance in our dataset.  Even though our classification accuracy decreased slightly after over-sampling, there was a huge improvement in the false positive rate of our model."
   ]
  },
  {
   "cell_type": "markdown",
   "metadata": {},
   "source": [
    "For our regression problem, budget outperforms runtime in predicting box office because it has much higher R^2 values and lower MSE values. It can be concluded that budget has some positive relationship with box office and is able to predict it to a certain extent. On the other hand, runtime has no clear relationship with box office.\n",
    "\n",
    "After tuning the hyperparameters, the best degree for single variate polynomial regression is 1, which indicates that the data suits a linear relationship more than a non-linear relationship.\n",
    "The best model for predicting box office for using budget is decision tree regressor while the best model for runtime is KNN regressor."
   ]
  },
  {
   "cell_type": "markdown",
   "metadata": {},
   "source": [
    "For clustering, we find that both approaches gave similar results. The top words of successful clusters indicate that they contain a franchise, and tend to have the element of actions or crime as a common theme in the clusters. Movie makers could consider incorporating these elements into their movies."
   ]
  },
  {
   "cell_type": "markdown",
   "metadata": {},
   "source": [
    "### Recommendation"
   ]
  },
  {
   "cell_type": "markdown",
   "metadata": {},
   "source": [
    "First, changing the budget and runtime for a movie might not play a huge part in determining if a movie will receive an award, hence movie makers should not spend too much resource in finding the optimal runtime and budget if they are looking to win some awards.\n"
   ]
  },
  {
   "cell_type": "markdown",
   "metadata": {},
   "source": [
    "However, when it comes to increasing a movie’s box office, movie makers can consider their budget carefully as it is shown that the higher the movie budget, the box office is likely to be higher as well. Conversely, runtime is not a factor to be concerned about"
   ]
  },
  {
   "cell_type": "markdown",
   "metadata": {},
   "source": [
    "Lastly, fantasy and supernatural themes are common in successful movies, so movie makers can consider incorporating such elements into their movies."
   ]
  }
 ],
 "metadata": {
  "kernelspec": {
   "display_name": "Python 3",
   "language": "python",
   "name": "python3"
  },
  "language_info": {
   "codemirror_mode": {
    "name": "ipython",
    "version": 3
   },
   "file_extension": ".py",
   "mimetype": "text/x-python",
   "name": "python",
   "nbconvert_exporter": "python",
   "pygments_lexer": "ipython3",
   "version": "3.8.5"
  }
 },
 "nbformat": 4,
 "nbformat_minor": 4
}
